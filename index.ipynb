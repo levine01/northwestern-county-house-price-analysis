{
 "cells": [
  {
   "cell_type": "code",
   "execution_count": 20,
   "id": "f96aec48",
   "metadata": {},
   "outputs": [],
   "source": [
    "# importing libraries\n",
    "import pandas as pd\n",
    "import numpy as np \n",
    "import statsmodels.api as sm\n",
    "import matplotlib.pyplot as plt\n",
    "import seaborn as sns\n",
    "%matplotlib inline"
   ]
  },
  {
   "cell_type": "code",
   "execution_count": 21,
   "id": "23002af8",
   "metadata": {},
   "outputs": [],
   "source": [
    "# reading the house dataset and getting the first five outputs\n",
    "data = pd.read_csv(\"data/kc_house_data.csv\")\n",
    "data.head()"
   ]
  },
  {
   "cell_type": "code",
   "execution_count": 3,
   "id": "f21a2571",
   "metadata": {
    "scrolled": true
   },
   "outputs": [],
   "source": [
    "# getting an overview of the dataset, including the number of non-null values and the data types of each column\n",
    "data.info()"
   ]
  },
  {
   "cell_type": "code",
   "execution_count": 4,
   "id": "bb1250dc",
   "metadata": {},
   "outputs": [],
   "source": [
    "# getting the number of rows and columns in the data.\n",
    "data.shape"
   ]
  },
  {
   "cell_type": "code",
   "execution_count": 5,
   "id": "d920ee51",
   "metadata": {},
   "outputs": [],
   "source": [
    "# checking the datatypes of the columns\n",
    "data.dtypes"
   ]
  },
  {
   "cell_type": "code",
   "execution_count": 6,
   "id": "7851513d",
   "metadata": {},
   "outputs": [],
   "source": [
    "# generating summary statistics for the numerical columns in the dataset\n",
    "data.describe()"
   ]
  },
  {
   "cell_type": "code",
   "execution_count": 7,
   "id": "01b1a365",
   "metadata": {},
   "outputs": [],
   "source": [
    "# checking the proportion of missing values per column\n",
    "data.isna().sum()/len(data)"
   ]
  },
  {
   "cell_type": "code",
   "execution_count": 8,
   "id": "d4520cea",
   "metadata": {},
   "outputs": [],
   "source": [
    "# since waterfront has missing values, we first check the value counts\n",
    "data['waterfront'].value_counts()"
   ]
  },
  {
   "cell_type": "code",
   "execution_count": 9,
   "id": "ce2a00ac",
   "metadata": {},
   "outputs": [],
   "source": [
    "# filling in missing values in the 'waterfront' column with the string 'NO'\n",
    "data['waterfront'] = data['waterfront'].fillna('NO')\n",
    "# getting an overview of the dataset after filling the missing values in Waterfront\n",
    "data.info()"
   ]
  },
  {
   "cell_type": "code",
   "execution_count": 10,
   "id": "1f04167f",
   "metadata": {},
   "outputs": [],
   "source": [
    "# dropping columns that we will not be using \n",
    "columns_to_drop = ['date', 'view', 'sqft_above', 'sqft_basement', 'yr_renovated', 'zipcode', 'lat', 'long', 'sqft_living15', 'sqft_lot15']\n",
    "data.drop(columns_to_drop, axis=1, inplace=True)\n",
    "#data.drop(columns=['column_name1', 'column_name2', ...], axis=1"
   ]
  },
  {
   "cell_type": "code",
   "execution_count": 11,
   "id": "077f8a3a",
   "metadata": {},
   "outputs": [],
   "source": [
    "data.info()"
   ]
  },
  {
   "cell_type": "code",
   "execution_count": 12,
   "id": "d95e7961",
   "metadata": {},
   "outputs": [],
   "source": [
    "# checking if there are any duplicated columns\n",
    "data.duplicated().any()"
   ]
  },
  {
   "cell_type": "code",
   "execution_count": 13,
   "id": "b33949b6",
   "metadata": {},
   "outputs": [],
   "source": [
    "# checking the sum of duplicated ids\n",
    "data['id'].duplicated().sum()\n",
    "# dropping the duplicated values and keeping the first in id column\n",
    "data = data.drop_duplicates(subset='id', keep='first')"
   ]
  },
  {
   "cell_type": "code",
   "execution_count": 14,
   "id": "3aabbdc9",
   "metadata": {},
   "outputs": [],
   "source": [
    "# now checking the if there are any duplicated values\n",
    "data.duplicated().sum()"
   ]
  },
  {
   "cell_type": "code",
   "execution_count": 15,
   "id": "fa6635cc",
   "metadata": {},
   "outputs": [],
   "source": [
    "data.shape"
   ]
  },
  {
   "cell_type": "markdown",
   "id": "18510a84",
   "metadata": {},
   "source": [
    "## Explotory data analysis\n",
    "\n",
    "### Univariate analysis"
   ]
  },
  {
   "cell_type": "code",
   "execution_count": 16,
   "id": "8ed627fb",
   "metadata": {},
   "outputs": [],
   "source": [
    "#Histrogram showing Bill Length\n",
    "x=data['bathrooms']\n",
    "#when you are plotting the histogram,plt.hist(have the necessary parameters here)\n",
    "plt.hist(x, bins=10, histtype='bar')\n",
    "#when to give my plot a title\n",
    "plt.title('Histogram showing bathrooms')\n",
    "plt.xlabel('bathrooms')\n",
    "plt.ylabel('price')\n",
    "plt.show()"
   ]
  },
  {
   "cell_type": "code",
   "execution_count": null,
   "id": "2b3643ec",
   "metadata": {},
   "outputs": [],
   "source": []
  },
  {
   "cell_type": "code",
   "execution_count": null,
   "id": "0d1e63b0",
   "metadata": {},
   "outputs": [],
   "source": []
  },
  {
   "cell_type": "code",
   "execution_count": 17,
   "id": "4629becb",
   "metadata": {},
   "outputs": [],
   "source": [
    "# checking for categorical columns\n",
    "categorical_columns = data.select_dtypes(include=['object', 'category']).columns\n",
    "categorical_columns"
   ]
  },
  {
   "cell_type": "code",
   "execution_count": 18,
   "id": "0bac0fd8",
   "metadata": {},
   "outputs": [],
   "source": [
    "# exploring categorical variables,using value_counts() to get the count of each unique value in a column \n",
    "# using describe() to get summary statistics for categorical columns.\n",
    "for column in categorical_columns:\n",
    "    value_counts = data[column].value_counts()\n",
    "    print(f\"Value counts for {column}:\\n{value_counts}\\n\")\n",
    "\n",
    "# Summary statistics for categorical columns\n",
    "print(data[categorical_columns].describe())\n"
   ]
  },
  {
   "cell_type": "code",
   "execution_count": 19,
   "id": "b480eb16",
   "metadata": {},
   "outputs": [],
   "source": [
    "#dealing with missing values in the genre column since its a major variable in our analysis\n",
    "data.dropna( subset='price' , inplace=True)\n",
    "movie_basics.info()"
   ]
  }
 ],
 "metadata": {
  "kernelspec": {
   "display_name": "Python 3 (ipykernel)",
   "language": "python",
   "name": "python3"
  },
  "language_info": {
   "codemirror_mode": {
    "name": "ipython",
    "version": 3
   },
   "file_extension": ".py",
   "mimetype": "text/x-python",
   "name": "python",
   "nbconvert_exporter": "python",
   "pygments_lexer": "ipython3",
   "version": "3.10.11"
  }
 },
 "nbformat": 4,
 "nbformat_minor": 5
}
